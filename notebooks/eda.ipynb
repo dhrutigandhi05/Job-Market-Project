{
 "cells": [
  {
   "cell_type": "code",
   "execution_count": 33,
   "id": "d511a7f4-01bc-48c3-90b0-b89df0ddf70a",
   "metadata": {},
   "outputs": [
    {
     "name": "stdout",
     "output_type": "stream",
     "text": [
      "First record keys: dict_keys(['job_id', 'job_title', 'employer_name', 'employer_logo', 'employer_website', 'job_publisher', 'job_employment_type', 'job_employment_types', 'job_apply_link', 'job_apply_is_direct', 'apply_options', 'job_description', 'job_is_remote', 'job_posted_at', 'job_posted_at_timestamp', 'job_posted_at_datetime_utc', 'job_location', 'job_city', 'job_state', 'job_country', 'job_latitude', 'job_longitude', 'job_benefits', 'job_google_link', 'job_min_salary', 'job_max_salary', 'job_salary_period', 'job_highlights', 'job_onet_soc', 'job_onet_job_zone'])\n",
      "{'job_id': '8c_-AFErZwtCFTweAAAAAA==', 'job_title': 'Junior Scientific Programmer / Data Scientist', 'employer_name': 'ERT', 'employer_logo': 'https://encrypted-tbn0.gstatic.com/images?q=tbn:ANd9GcR9l4-UcfcRu7FfAZPU5pZvl6OUogXfUXhDfzdL&s=0', 'employer_website': None, 'job_publisher': 'LinkedIn', 'job_employment_type': 'Full-time', 'job_employment_types': ['FULLTIME'], 'job_apply_link': 'https://www.linkedin.com/jobs/view/junior-scientific-programmer-data-scientist-at-ert-4267796048?utm_campaign=google_jobs_apply&utm_source=google_jobs_apply&utm_medium=organic', 'job_apply_is_direct': False, 'apply_options': [{'publisher': 'LinkedIn', 'apply_link': 'https://www.linkedin.com/jobs/view/junior-scientific-programmer-data-scientist-at-ert-4267796048?utm_campaign=google_jobs_apply&utm_source=google_jobs_apply&utm_medium=organic', 'is_direct': False}, {'publisher': 'Indeed', 'apply_link': 'https://www.indeed.com/viewjob?jk=e31477c7332d82a5&utm_campaign=google_jobs_apply&utm_source=google_jobs_apply&utm_medium=organic', 'is_direct': False}, {'publisher': 'Taleo Business Edition', 'apply_link': 'https://phh.tbe.taleo.net/phh04/ats/careers/requisition.jsp?org=ERT&cws=56&rid=3725&utm_campaign=google_jobs_apply&utm_source=google_jobs_apply&utm_medium=organic', 'is_direct': False}, {'publisher': 'ZipRecruiter', 'apply_link': 'https://www.ziprecruiter.com/c/ERT,-Inc./Job/Junior-Scientific-Programmer-Data-Scientist/-in-College-Park,MD?jid=0f10ff609c4ab47d&utm_campaign=google_jobs_apply&utm_source=google_jobs_apply&utm_medium=organic', 'is_direct': False}, {'publisher': 'Jobgether', 'apply_link': 'https://jobgether.com/offer/6879fa052c0ca541c35bf90f-junior-scientific-programmer-data-scientist?utm_campaign=google_jobs_apply&utm_source=google_jobs_apply&utm_medium=organic', 'is_direct': False}, {'publisher': 'SimplyHired', 'apply_link': 'https://www.simplyhired.com/job/FCUMdJI_eFHaZeC0cVM6FurMebbGoqeLGaz-dz2fZwjAVX8v0Wyy2g?utm_campaign=google_jobs_apply&utm_source=google_jobs_apply&utm_medium=organic', 'is_direct': False}, {'publisher': 'Talentify', 'apply_link': 'https://www.talentify.io/job/junior-scientific-programmer-data-scientist-college-park-maryland-us-ert-1-3725?utm_campaign=google_jobs_apply&utm_source=google_jobs_apply&utm_medium=organic', 'is_direct': False}, {'publisher': 'LazyApply', 'apply_link': 'https://lazyapply.com/jobpreview/13323449?utm_campaign=google_jobs_apply&utm_source=google_jobs_apply&utm_medium=organic', 'is_direct': False}], 'job_description': \"Background\\n\\nThe sensor science and crosscutting technology theme within STAR supports research and development for NOAA’s satellite sensor payloads, ensuring data quality and preparing for future instruments. This involves developing mathematical models and algorithms to interpret satellite measurements, enhancing our understanding of Earth's systems and their impact on weather and climate. STAR facilitates the transition of satellite data and technologies from research to applications, enabling end users to make informed decisions. STAR also collects in situ observations for sensor calibration, product validation, and data fusion with satellite measurements, aiding in the development and maintenance of satellite instruments and products while mitigating risks. These efforts help develop and sustain satellite instruments and products while reducing risks.\\n\\nJob Description\\n\\nERT is seeking a Junior Scientific Programmer / Data Scientist to support NOAA's STAR Sensors program . Will be working with scientists to develop and train AI/ML models for weather and environmental applications using satellite observations. The work will involve AI/ML training, data preparation, model training, validation, and deployment.\\n\\nRequirements\\n• 1-6 years of relevant experience\\n• Excellent Python 3 programming skills on Linux\\n• Experience in the use of AI/ML models to solve real world problems\\n\\nEducation\\n\\nBS in Atmospheric Science, Earth Science, or equivalent\\n\\nLocation\\n\\nWork is located in College Park, MD with flexile work schedules permitted.\\n\\nCompensation\\n\\nThe salary range for this role is $46,000 - $221,000/year. This range is a good faith estimate based on similar roles across the organization. ERT uses several factors when extending an offer, including but not limited to, the position's scope and expected duties, a candidate’s work experience, education/training, and key skills.\\n\\nBenefits\\n\\nAll full-time employees are eligible to participate in our flexible benefits package, which includes:\\n• Medical, Rx, Dental, and Vision Insurance\\n• 401(k) retirement plan with company-matching\\n• 11 Paid Federal Government Holidays\\n• Paid Time Off (PTO)\\n• Basic Life & Supplemental Life\\n• Health Savings Account, Flexible Spending and Dependent Care Flexible Spending Accounts\\n• Short-Term & Long-Term Disability\\n• Employee assistance program (EAP)\\n• Tuition Reimbursement, Personal Development & Learning Opportunities\\n• Skills Development & Certifications\\n• Professional Membership Reimbursement\\n• Employee Referral Program\\n• Competitive compensation plan\\n• Discretionary variable incentive bonuses based on factors such as individual performance, business unit performance, and/or the company’s performance\\n• Publication and Conference Presentation Awards with bonuses\\n\\nERT is a VEVRAA Federal Contractor and Equal Opportunity employer - All qualified applicants will be considered for employment without regard to race, color, religion, sex, national origin, disability, or protected Veteran status.\", 'job_is_remote': False, 'job_posted_at': '2 days ago', 'job_posted_at_timestamp': 1752710400, 'job_posted_at_datetime_utc': '2025-07-17T00:00:00.000Z', 'job_location': 'College Park, MD', 'job_city': 'College Park', 'job_state': 'Maryland', 'job_country': 'US', 'job_latitude': 38.989696699999996, 'job_longitude': -76.93776, 'job_benefits': ['health_insurance', 'paid_time_off', 'dental_coverage'], 'job_google_link': 'https://www.google.com/search?q=jobs&gl=us&hl=en&udm=8#vhid=vt%3D20/docid%3D8c_-AFErZwtCFTweAAAAAA%3D%3D&vssid=jobs-detail-viewer', 'job_min_salary': 46000, 'job_max_salary': 221000, 'job_salary_period': 'YEAR', 'job_highlights': {'Qualifications': ['1-6 years of relevant experience', 'Excellent Python 3 programming skills on Linux', 'Experience in the use of AI/ML models to solve real world problems', 'BS in Atmospheric Science, Earth Science, or equivalent', \"ERT uses several factors when extending an offer, including but not limited to, the position's scope and expected duties, a candidate’s work experience, education/training, and key skills\"], 'Benefits': ['Compensation', 'The salary range for this role is $46,000 - $221,000/year', 'This range is a good faith estimate based on similar roles across the organization', 'All full-time employees are eligible to participate in our flexible benefits package, which includes:', 'Medical, Rx, Dental, and Vision Insurance', '401(k) retirement plan with company-matching', '11 Paid Federal Government Holidays', 'Paid Time Off (PTO)', 'Basic Life & Supplemental Life', 'Health Savings Account, Flexible Spending and Dependent Care Flexible Spending Accounts', 'Short-Term & Long-Term Disability', 'Employee assistance program (EAP)', 'Tuition Reimbursement, Personal Development & Learning Opportunities', 'Skills Development & Certifications', 'Professional Membership Reimbursement', 'Employee Referral Program', 'Competitive compensation plan', 'Discretionary variable incentive bonuses based on factors such as individual performance, business unit performance, and/or the company’s performance', 'Publication and Conference Presentation Awards with bonuses'], 'Responsibilities': ['The sensor science and crosscutting technology theme within STAR supports research and development for NOAA’s satellite sensor payloads, ensuring data quality and preparing for future instruments', \"This involves developing mathematical models and algorithms to interpret satellite measurements, enhancing our understanding of Earth's systems and their impact on weather and climate\", 'STAR facilitates the transition of satellite data and technologies from research to applications, enabling end users to make informed decisions', 'STAR also collects in situ observations for sensor calibration, product validation, and data fusion with satellite measurements, aiding in the development and maintenance of satellite instruments and products while mitigating risks', 'These efforts help develop and sustain satellite instruments and products while reducing risks', 'Will be working with scientists to develop and train AI/ML models for weather and environmental applications using satellite observations', 'The work will involve AI/ML training, data preparation, model training, validation, and deployment']}, 'job_onet_soc': '15111100', 'job_onet_job_zone': '5'}\n",
      "Columns in df: ['job_id', 'job_title', 'employer_name', 'employer_logo', 'employer_website', 'job_publisher', 'job_employment_type', 'job_employment_types', 'job_apply_link', 'job_apply_is_direct', 'apply_options', 'job_description', 'job_is_remote', 'job_posted_at', 'job_posted_at_timestamp', 'job_posted_at_datetime_utc', 'job_location', 'job_city', 'job_state', 'job_country', 'job_latitude', 'job_longitude', 'job_benefits', 'job_google_link', 'job_min_salary', 'job_max_salary', 'job_salary_period', 'job_onet_soc', 'job_onet_job_zone', 'job_highlights.Qualifications', 'job_highlights.Benefits', 'job_highlights.Responsibilities', 'job_salary']\n"
     ]
    }
   ],
   "source": [
    "import sys, os\n",
    "sys.path.insert(0, os.path.abspath(\"..\")) # add the root to python’s import path\n",
    "import json\n",
    "import pandas as pd\n",
    "from src.config import get_s3_client, S3_BUCKET_NAME\n",
    "\n",
    "# get a single key\n",
    "s3 = get_s3_client()\n",
    "keys = s3.list_objects_v2(Bucket=S3_BUCKET_NAME, Prefix=\"raw/2025-07-19/\")[\"Contents\"]\n",
    "key = keys[0][\"Key\"] if keys else None\n",
    "\n",
    "if not key:\n",
    "    raise RuntimeError(\"No S3 objects under raw/2025-07-19/\")\n",
    "\n",
    "# download once and read into a bytes variable\n",
    "resp= s3.get_object(Bucket=S3_BUCKET_NAME, Key=key)\n",
    "raw_bytes = resp[\"Body\"].read() # JSON text\n",
    "\n",
    "# inspect the first record\n",
    "raw_list = json.loads(raw_bytes)\n",
    "print(\"First record keys:\", raw_list[0].keys())\n",
    "print(raw_list[0]) # see what fields exist\n",
    "\n",
    "# normalize into a DataFrame\n",
    "df = pd.json_normalize(raw_list)\n",
    "print(\"Columns in df:\", df.columns.tolist())"
   ]
  }
 ],
 "metadata": {
  "kernelspec": {
   "display_name": "Python [conda env:base] *",
   "language": "python",
   "name": "conda-base-py"
  },
  "language_info": {
   "codemirror_mode": {
    "name": "ipython",
    "version": 3
   },
   "file_extension": ".py",
   "mimetype": "text/x-python",
   "name": "python",
   "nbconvert_exporter": "python",
   "pygments_lexer": "ipython3",
   "version": "3.12.3"
  }
 },
 "nbformat": 4,
 "nbformat_minor": 5
}
